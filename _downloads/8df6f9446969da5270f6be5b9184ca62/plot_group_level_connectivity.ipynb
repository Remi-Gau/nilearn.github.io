{
  "cells": [
    {
      "cell_type": "code",
      "execution_count": null,
      "metadata": {
        "collapsed": false
      },
      "outputs": [],
      "source": [
        "%matplotlib inline"
      ]
    },
    {
      "cell_type": "markdown",
      "metadata": {},
      "source": [
        "\nFunctional connectivity matrices for group analysis of connectomes\n==================================================================\n\nThis example compares different kinds of functional connectivity between\nregions of interest : correlation, partial correlation, as well as a kind\ncalled **tangent**. The resulting connectivity coefficients are used to\ndiscriminate ADHD patients from healthy controls and the **tangent kind**\n**outperforms** the standard connectivity kinds.\n\n"
      ]
    },
    {
      "cell_type": "code",
      "execution_count": null,
      "metadata": {
        "collapsed": false
      },
      "outputs": [],
      "source": [
        "# Matrix plotting from Nilearn: nilearn.plotting.plot_matrix\nimport numpy as np\nimport matplotlib.pylab as plt\n\n\ndef plot_matrices(matrices, matrix_kind):\n    n_matrices = len(matrices)\n    fig = plt.figure(figsize=(n_matrices * 4, 4))\n    for n_subject, matrix in enumerate(matrices):\n        plt.subplot(1, n_matrices, n_subject + 1)\n        matrix = matrix.copy()  # avoid side effects\n        # Set diagonal to zero, for better visualization\n        np.fill_diagonal(matrix, 0)\n        vmax = np.max(np.abs(matrix))\n        title = '{0}, subject {1}'.format(matrix_kind, n_subject)\n        plotting.plot_matrix(matrix, vmin=-vmax, vmax=vmax, cmap='RdBu_r',\n                             title=title, figure=fig, colorbar=False)"
      ]
    },
    {
      "cell_type": "markdown",
      "metadata": {},
      "source": [
        "Load ADHD dataset and MSDL atlas\n--------------------------------\nWe study only 20 subjects from the ADHD dataset, to save computation time.\n\n"
      ]
    },
    {
      "cell_type": "code",
      "execution_count": null,
      "metadata": {
        "collapsed": false
      },
      "outputs": [],
      "source": [
        "from nilearn import datasets\n\nadhd_data = datasets.fetch_adhd(n_subjects=20)"
      ]
    },
    {
      "cell_type": "markdown",
      "metadata": {},
      "source": [
        "We use probabilistic regions of interest (ROIs) from the MSDL atlas.\n\n"
      ]
    },
    {
      "cell_type": "code",
      "execution_count": null,
      "metadata": {
        "collapsed": false
      },
      "outputs": [],
      "source": [
        "msdl_data = datasets.fetch_atlas_msdl()\nmsdl_coords = msdl_data.region_coords\nn_regions = len(msdl_coords)\nprint('MSDL has {0} ROIs, part of the following networks :\\n{1}.'.format(\n    n_regions, msdl_data.networks))"
      ]
    },
    {
      "cell_type": "markdown",
      "metadata": {},
      "source": [
        "Region signals extraction\n-------------------------\nTo extract regions time series, we instantiate a\n:class:`nilearn.input_data.NiftiMapsMasker` object and pass the atlas the\nfile name to it, as well as filtering band-width and detrending option.\n\n"
      ]
    },
    {
      "cell_type": "code",
      "execution_count": null,
      "metadata": {
        "collapsed": false
      },
      "outputs": [],
      "source": [
        "from nilearn import input_data\n\nmasker = input_data.NiftiMapsMasker(\n    msdl_data.maps, resampling_target=\"data\", t_r=2.5, detrend=True,\n    low_pass=.1, high_pass=.01, memory='nilearn_cache', memory_level=1)"
      ]
    },
    {
      "cell_type": "markdown",
      "metadata": {},
      "source": [
        "Then we compute region signals and extract useful phenotypic informations.\n\n"
      ]
    },
    {
      "cell_type": "code",
      "execution_count": null,
      "metadata": {
        "collapsed": false
      },
      "outputs": [],
      "source": [
        "adhd_subjects = []\npooled_subjects = []\nsite_names = []\nadhd_labels = []  # 1 if ADHD, 0 if control\nfor func_file, confound_file, phenotypic in zip(\n        adhd_data.func, adhd_data.confounds, adhd_data.phenotypic):\n    time_series = masker.fit_transform(func_file, confounds=confound_file)\n    pooled_subjects.append(time_series)\n    is_adhd = phenotypic['adhd']\n    if is_adhd:\n        adhd_subjects.append(time_series)\n\n    site_names.append(phenotypic['site'])\n    adhd_labels.append(is_adhd)\n\nprint('Data has {0} ADHD subjects.'.format(len(adhd_subjects)))"
      ]
    },
    {
      "cell_type": "markdown",
      "metadata": {},
      "source": [
        "ROI-to-ROI correlations of ADHD patients\n----------------------------------------\nThe simpler and most commonly used kind of connectivity is correlation. It\nmodels the full (marginal) connectivity between pairwise ROIs. We can\nestimate it using :class:`nilearn.connectome.ConnectivityMeasure`.\n\n"
      ]
    },
    {
      "cell_type": "code",
      "execution_count": null,
      "metadata": {
        "collapsed": false
      },
      "outputs": [],
      "source": [
        "from nilearn.connectome import ConnectivityMeasure\n\ncorrelation_measure = ConnectivityMeasure(kind='correlation')"
      ]
    },
    {
      "cell_type": "markdown",
      "metadata": {},
      "source": [
        "From the list of ROIs time-series for ADHD subjects, the\n`correlation_measure` computes individual correlation matrices.\n\n"
      ]
    },
    {
      "cell_type": "code",
      "execution_count": null,
      "metadata": {
        "collapsed": false
      },
      "outputs": [],
      "source": [
        "correlation_matrices = correlation_measure.fit_transform(adhd_subjects)\n\n# All individual coefficients are stacked in a unique 2D matrix.\nprint('Correlations of ADHD patients are stacked in an array of shape {0}'\n      .format(correlation_matrices.shape))"
      ]
    },
    {
      "cell_type": "markdown",
      "metadata": {},
      "source": [
        "as well as the average correlation across all fitted subjects.\n\n"
      ]
    },
    {
      "cell_type": "code",
      "execution_count": null,
      "metadata": {
        "collapsed": false
      },
      "outputs": [],
      "source": [
        "mean_correlation_matrix = correlation_measure.mean_\nprint('Mean correlation has shape {0}.'.format(mean_correlation_matrix.shape))"
      ]
    },
    {
      "cell_type": "markdown",
      "metadata": {},
      "source": [
        "We display the connectomes of the first 3 ADHD subjects and the mean\ncorrelation matrix over all ADHD patients.\n\n"
      ]
    },
    {
      "cell_type": "code",
      "execution_count": null,
      "metadata": {
        "collapsed": false
      },
      "outputs": [],
      "source": [
        "from nilearn import plotting\n\nplot_matrices(correlation_matrices[:4], 'correlation')\nplotting.plot_connectome(mean_correlation_matrix, msdl_coords,\n                         title='mean correlation over 13 ADHD subjects')"
      ]
    },
    {
      "cell_type": "markdown",
      "metadata": {},
      "source": [
        "Look at blocks structure, reflecting functional networks.\n\n"
      ]
    },
    {
      "cell_type": "markdown",
      "metadata": {},
      "source": [
        "Examine partial correlations\n----------------------------\nWe can also study **direct connections**, revealed by partial correlation\ncoefficients. We just change the `ConnectivityMeasure` kind\n\n"
      ]
    },
    {
      "cell_type": "code",
      "execution_count": null,
      "metadata": {
        "collapsed": false
      },
      "outputs": [],
      "source": [
        "partial_correlation_measure = ConnectivityMeasure(kind='partial correlation')"
      ]
    },
    {
      "cell_type": "markdown",
      "metadata": {},
      "source": [
        "and repeat the previous operation.\n\n"
      ]
    },
    {
      "cell_type": "code",
      "execution_count": null,
      "metadata": {
        "collapsed": false
      },
      "outputs": [],
      "source": [
        "partial_correlation_matrices = partial_correlation_measure.fit_transform(\n    adhd_subjects)"
      ]
    },
    {
      "cell_type": "markdown",
      "metadata": {},
      "source": [
        "Most of direct connections are weaker than full connections, resulting\nin a sparse mean connectome graph.\n\n"
      ]
    },
    {
      "cell_type": "code",
      "execution_count": null,
      "metadata": {
        "collapsed": false
      },
      "outputs": [],
      "source": [
        "plot_matrices(partial_correlation_matrices[:4], 'partial')\nplotting.plot_connectome(\n    partial_correlation_measure.mean_, msdl_coords,\n    title='mean partial correlation over 13 ADHD subjects')"
      ]
    },
    {
      "cell_type": "markdown",
      "metadata": {},
      "source": [
        "Extract subjects variabilities around a robust group connectivity\n-----------------------------------------------------------------\nWe can use **both** correlations and partial correlations to capture\nreproducible connectivity patterns at the group-level and build a **robust**\n**group connectivity matrix**. This is done by the **tangent** kind.\n\n"
      ]
    },
    {
      "cell_type": "code",
      "execution_count": null,
      "metadata": {
        "collapsed": false
      },
      "outputs": [],
      "source": [
        "tangent_measure = ConnectivityMeasure(kind='tangent')"
      ]
    },
    {
      "cell_type": "markdown",
      "metadata": {},
      "source": [
        "We fit our ADHD group and get the group connectivity matrix stored as\nin `tangent_measure.mean_`, and individual deviation matrices of each subject\nfrom it.\n\n"
      ]
    },
    {
      "cell_type": "code",
      "execution_count": null,
      "metadata": {
        "collapsed": false
      },
      "outputs": [],
      "source": [
        "tangent_matrices = tangent_measure.fit_transform(adhd_subjects)"
      ]
    },
    {
      "cell_type": "markdown",
      "metadata": {},
      "source": [
        "`tangent_matrices` model individual connectivities as\n**perturbations** of the group connectivity matrix `tangent_measure.mean_`.\nKeep in mind that these subjects-to-group variability matrices do not\nstraight reflect individual brain connections. For instance negative\ncoefficients can not be interpreted as anticorrelated regions.\n\n"
      ]
    },
    {
      "cell_type": "code",
      "execution_count": null,
      "metadata": {
        "collapsed": false
      },
      "outputs": [],
      "source": [
        "plot_matrices(tangent_matrices[:4], 'tangent variability')\nplotting.plot_connectome(\n    tangent_measure.mean_, msdl_coords,\n    title='mean tangent connectivity over 13 ADHD subjects')"
      ]
    },
    {
      "cell_type": "markdown",
      "metadata": {},
      "source": [
        "The mean connectome graph is not as sparse as partial correlations graph,\nyet it is less dense than correlations graph.\n\n"
      ]
    },
    {
      "cell_type": "markdown",
      "metadata": {},
      "source": [
        "What kind of connectivity is most powerful for classification?\n--------------------------------------------------------------\n*ConnectivityMeasure* can output the estimated subjects coefficients\nas a 1D arrays through the parameter *vectorize*.\n\n"
      ]
    },
    {
      "cell_type": "code",
      "execution_count": null,
      "metadata": {
        "collapsed": false
      },
      "outputs": [],
      "source": [
        "connectivity_biomarkers = {}\nkinds = ['correlation', 'partial correlation', 'tangent']\nfor kind in kinds:\n    conn_measure = ConnectivityMeasure(kind=kind, vectorize=True)\n    connectivity_biomarkers[kind] = conn_measure.fit_transform(pooled_subjects)\n\n# For each kind, all individual coefficients are stacked in a unique 2D matrix.\nprint('{0} correlation biomarkers for each subject.'.format(\n    connectivity_biomarkers['correlation'].shape[1]))"
      ]
    },
    {
      "cell_type": "markdown",
      "metadata": {},
      "source": [
        "Note that we use the **pooled groups**. This is crucial for **tangent** kind,\nto get the displacements from a **unique** `mean_` of all subjects.\n\n"
      ]
    },
    {
      "cell_type": "markdown",
      "metadata": {},
      "source": [
        "We stratify the dataset into homogeneous classes according to phenotypic\nand scan site. We then split the subjects into 3 folds with the same\nproportion of each class as in the whole cohort\n\n"
      ]
    },
    {
      "cell_type": "code",
      "execution_count": null,
      "metadata": {
        "collapsed": false
      },
      "outputs": [],
      "source": [
        "from sklearn.model_selection import StratifiedKFold\n\nclasses = ['{0}{1}'.format(site_name, adhd_label)\n           for site_name, adhd_label in zip(site_names, adhd_labels)]\ncv = StratifiedKFold(n_splits=3)"
      ]
    },
    {
      "cell_type": "markdown",
      "metadata": {},
      "source": [
        "and use the connectivity coefficients to classify ADHD patients vs controls.\n\n"
      ]
    },
    {
      "cell_type": "code",
      "execution_count": null,
      "metadata": {
        "collapsed": false
      },
      "outputs": [],
      "source": [
        "# Note that in cv.split(X, y),\n# providing y is sufficient to generate the splits and\n# hence np.zeros(n_samples) may be used as a placeholder for X\n# instead of actual training data.\nfrom sklearn.svm import LinearSVC\nfrom sklearn.model_selection import cross_val_score\n\nmean_scores = []\nfor kind in kinds:\n    svc = LinearSVC(random_state=0)\n    cv_scores = cross_val_score(svc,\n                                connectivity_biomarkers[kind],\n                                y=adhd_labels,\n                                cv=cv,\n                                groups=adhd_labels,\n                                scoring='accuracy',\n                                )\n    mean_scores.append(cv_scores.mean())"
      ]
    },
    {
      "cell_type": "markdown",
      "metadata": {},
      "source": [
        "Finally, we can display the classification scores.\n\n"
      ]
    },
    {
      "cell_type": "code",
      "execution_count": null,
      "metadata": {
        "collapsed": false
      },
      "outputs": [],
      "source": [
        "from nilearn.plotting import show\n\nplt.figure(figsize=(6, 4))\npositions = np.arange(len(kinds)) * .1 + .1\nplt.barh(positions, mean_scores, align='center', height=.05)\nyticks = [kind.replace(' ', '\\n') for kind in kinds]\nplt.yticks(positions, yticks)\nplt.xlabel('Classification accuracy')\nplt.grid(True)\nplt.tight_layout()\n\nshow()"
      ]
    }
  ],
  "metadata": {
    "kernelspec": {
      "display_name": "Python 3",
      "language": "python",
      "name": "python3"
    },
    "language_info": {
      "codemirror_mode": {
        "name": "ipython",
        "version": 3
      },
      "file_extension": ".py",
      "mimetype": "text/x-python",
      "name": "python",
      "nbconvert_exporter": "python",
      "pygments_lexer": "ipython3",
      "version": "3.6.8"
    }
  },
  "nbformat": 4,
  "nbformat_minor": 0
}