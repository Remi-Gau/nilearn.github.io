{
  "cells": [
    {
      "cell_type": "code",
      "execution_count": null,
      "metadata": {
        "collapsed": false
      },
      "outputs": [],
      "source": [
        "%matplotlib inline"
      ]
    },
    {
      "cell_type": "markdown",
      "metadata": {},
      "source": [
        "\nClustering methods to learn a brain parcellation from rest fMRI\n====================================================================\n\nWe use spatially-constrained Ward-clustering and KMeans to create a set\nof parcels.\n\nIn a high dimensional regime, these methods can be interesting\nto create a 'compressed' representation of the data, replacing the data\nin the fMRI images by mean signals on the parcellation, which can\nsubsequently be used for statistical analysis or machine learning.\n\nAlso, these methods can be used to learn functional connectomes\nand subsequently for classification tasks.\n\nReferences\n----------\n\nWhich clustering method to use, an empirical comparison can be found in this\npaper\n\n    * Bertrand Thirion, Gael Varoquaux, Elvis Dohmatob, Jean-Baptiste Poline.\n      `Which fMRI clustering gives good brain parcellations ?\n      <https://doi.org/10.3389/fnins.2014.00167>`_ Frontiers in Neuroscience,\n      2014.\n\nThis parcellation may be useful in a supervised learning, see for\ninstance\n\n    * Vincent Michel, Alexandre Gramfort, Gael Varoquaux, Evelyn Eger,\n      Christine Keribin, Bertrand Thirion. `A supervised clustering approach\n      for fMRI-based inference of brain states.\n      <http://dx.doi.org/10.1016/j.patcog.2011.04.006>`_.\n      Pattern Recognition, Elsevier, 2011.\n\nThe big picture discussion corresponding to this example can be found\nin the documentation section `parcellating_brain`.\n\n"
      ]
    },
    {
      "cell_type": "markdown",
      "metadata": {},
      "source": [
        "Download a rest dataset and turn it to a data matrix\n-----------------------------------------------------\n\nWe download one subject of the ADHD dataset from Internet\n\n"
      ]
    },
    {
      "cell_type": "code",
      "execution_count": null,
      "metadata": {
        "collapsed": false
      },
      "outputs": [],
      "source": [
        "from nilearn import datasets\ndataset = datasets.fetch_adhd(n_subjects=1)\n\n# print basic information on the dataset\nprint('First subject functional nifti image (4D) is at: %s' %\n      dataset.func[0])  # 4D data"
      ]
    },
    {
      "cell_type": "markdown",
      "metadata": {},
      "source": [
        "Brain parcellations with Ward Clustering\n----------------------------------------\n\nTransforming list of images to data matrix and build brain parcellations,\nall can be done at once using `Parcellations` object.\n\n"
      ]
    },
    {
      "cell_type": "code",
      "execution_count": null,
      "metadata": {
        "collapsed": false
      },
      "outputs": [],
      "source": [
        "from nilearn.regions import Parcellations\n\n# Computing ward for the first time, will be long... This can be seen by\n# measuring using time\nimport time\nstart = time.time()\n\n# Agglomerative Clustering: ward\n\n# We build parameters of our own for this object. Parameters related to\n# masking, caching and defining number of clusters and specific parcellations\n# method.\nward = Parcellations(method='ward', n_parcels=1000,\n                     standardize=False, smoothing_fwhm=2.,\n                     memory='nilearn_cache', memory_level=1,\n                     verbose=1)\n# Call fit on functional dataset: single subject (less samples).\nward.fit(dataset.func)\nprint(\"Ward agglomeration 1000 clusters: %.2fs\" % (time.time() - start))\n\n# We compute now ward clustering with 2000 clusters and compare\n# time with 1000 clusters. To see the benefits of caching for second time.\n\n# We initialize class again with n_parcels=2000 this time.\nstart = time.time()\nward = Parcellations(method='ward', n_parcels=2000,\n                     standardize=False, smoothing_fwhm=2.,\n                     memory='nilearn_cache', memory_level=1,\n                     verbose=1)\nward.fit(dataset.func)\nprint(\"Ward agglomeration 2000 clusters: %.2fs\" % (time.time() - start))"
      ]
    },
    {
      "cell_type": "markdown",
      "metadata": {},
      "source": [
        "Visualize: Brain parcellations (Ward)\n-------------------------------------\n\nFirst, we display the parcellations of the brain image stored in attribute\n`labels_img_`\n\n"
      ]
    },
    {
      "cell_type": "code",
      "execution_count": null,
      "metadata": {
        "collapsed": false
      },
      "outputs": [],
      "source": [
        "ward_labels_img = ward.labels_img_\n\n# Now, ward_labels_img are Nifti1Image object, it can be saved to file\n# with the following code:\nward_labels_img.to_filename('ward_parcellation.nii.gz')\n\nfrom nilearn import plotting\nfrom nilearn.image import mean_img, index_img\n\nfirst_plot = plotting.plot_roi(ward_labels_img, title=\"Ward parcellation\",\n                               display_mode='xz')\n\n# Grab cut coordinates from this plot to use as a common for all plots\ncut_coords = first_plot.cut_coords"
      ]
    },
    {
      "cell_type": "markdown",
      "metadata": {},
      "source": [
        "Compressed representation of Ward clustering\n--------------------------------------------\n\nSecond, we illustrate the effect that the clustering has on the signal.\nWe show the original data, and the approximation provided by the\nclustering by averaging the signal on each parcel.\n\n"
      ]
    },
    {
      "cell_type": "code",
      "execution_count": null,
      "metadata": {
        "collapsed": false
      },
      "outputs": [],
      "source": [
        "# Grab number of voxels from attribute mask image (mask_img_).\nimport numpy as np\noriginal_voxels = np.sum(ward.mask_img_.get_data())\n\n# Compute mean over time on the functional image to use the mean\n# image for compressed representation comparisons\nmean_func_img = mean_img(dataset.func[0])\n\n# Compute common vmin and vmax\nvmin = np.min(mean_func_img.get_data())\nvmax = np.max(mean_func_img.get_data())\n\nplotting.plot_epi(mean_func_img, cut_coords=cut_coords,\n                  title='Original (%i voxels)' % original_voxels,\n                  vmax=vmax, vmin=vmin, display_mode='xz')\n\n# A reduced dataset can be created by taking the parcel-level average:\n# Note that Parcellation objects with any method have the opportunity to\n# use a `transform` call that modifies input features. Here it reduces their\n# dimension. Note that we `fit` before calling a `transform` so that average\n# signals can be created on the brain parcellations with fit call.\nfmri_reduced = ward.transform(dataset.func)\n\n# Display the corresponding data compressed using the parcellation using\n# parcels=2000.\nfmri_compressed = ward.inverse_transform(fmri_reduced)\n\nplotting.plot_epi(index_img(fmri_compressed, 0),\n                  cut_coords=cut_coords,\n                  title='Ward compressed representation (2000 parcels)',\n                  vmin=vmin, vmax=vmax, display_mode='xz')\n# As you can see below, this approximation is almost good, although there\n# are only 2000 parcels, instead of the original 60000 voxels"
      ]
    },
    {
      "cell_type": "markdown",
      "metadata": {},
      "source": [
        "Brain parcellations with KMeans Clustering\n------------------------------------------\n\nWe use the same approach as with building parcellations using Ward\nclustering. But, in the range of a small number of clusters,\nit is most likely that we want to use standardization. Indeed with\nstandardization and smoothing, the clusters will form as regions.\n\n"
      ]
    },
    {
      "cell_type": "code",
      "execution_count": null,
      "metadata": {
        "collapsed": false
      },
      "outputs": [],
      "source": [
        "# class/functions can be used here as they are already imported above.\n\n# This object uses method='kmeans' for KMeans clustering with 10mm smoothing\n# and standardization ON\nkmeans = Parcellations(method='kmeans', n_parcels=50,\n                       standardize=True, smoothing_fwhm=10.,\n                       memory='nilearn_cache', memory_level=1,\n                       verbose=1)\n# Call fit on functional dataset: single subject (less samples)\nkmeans.fit(dataset.func)\nprint(\"KMeans 50 clusters: %.2fs\" % (time.time() - start))"
      ]
    },
    {
      "cell_type": "markdown",
      "metadata": {},
      "source": [
        "Visualize: Brain parcellations (KMeans)\n---------------------------------------\n\nGrab parcellations of brain image stored in attribute `labels_img_`\n\n"
      ]
    },
    {
      "cell_type": "code",
      "execution_count": null,
      "metadata": {
        "collapsed": false
      },
      "outputs": [],
      "source": [
        "kmeans_labels_img = kmeans.labels_img_\n\nplotting.plot_roi(kmeans_labels_img, mean_func_img,\n                  title=\"KMeans parcellation\",\n                  display_mode='xz')\n\n# kmeans_labels_img is a Nifti1Image object, it can be saved to file with\n# the following code:\nkmeans_labels_img.to_filename('kmeans_parcellation.nii.gz')"
      ]
    },
    {
      "cell_type": "markdown",
      "metadata": {},
      "source": [
        "Finally show them\n\n"
      ]
    },
    {
      "cell_type": "code",
      "execution_count": null,
      "metadata": {
        "collapsed": false
      },
      "outputs": [],
      "source": [
        "plotting.show()"
      ]
    }
  ],
  "metadata": {
    "kernelspec": {
      "display_name": "Python 3",
      "language": "python",
      "name": "python3"
    },
    "language_info": {
      "codemirror_mode": {
        "name": "ipython",
        "version": 3
      },
      "file_extension": ".py",
      "mimetype": "text/x-python",
      "name": "python",
      "nbconvert_exporter": "python",
      "pygments_lexer": "ipython3",
      "version": "3.6.8"
    }
  },
  "nbformat": 4,
  "nbformat_minor": 0
}