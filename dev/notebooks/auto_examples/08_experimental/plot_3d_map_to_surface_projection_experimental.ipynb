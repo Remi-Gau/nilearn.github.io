{
  "cells": [
    {
      "cell_type": "markdown",
      "metadata": {},
      "source": [
        "\n# Making a surface plot of a 3D statistical map\n\n<div class=\"alert alert-danger\"><h4>Warning</h4><p>This is an adaption of\n    `sphx_glr_auto_examples_01_plotting_plot_3d_map_to_surface_projection.py`\n    to use make it work with the new experimental surface API.</p></div>\n\nIn this example, we will project a 3D statistical map onto a cortical mesh\nusing :func:`~nilearn.surface.vol_to_surf`,\ndisplay a surface plot of the projected map\nusing :func:`~nilearn.plotting.plot_surf_stat_map`\nwith different plotting engines,\nand add contours of regions of interest using\n:func:`~nilearn.plotting.plot_surf_contours`.\n"
      ]
    },
    {
      "cell_type": "markdown",
      "metadata": {},
      "source": [
        "## Get a statistical map\n\n"
      ]
    },
    {
      "cell_type": "code",
      "execution_count": null,
      "metadata": {
        "collapsed": false
      },
      "outputs": [],
      "source": [
        "from nilearn import datasets\n\nstat_img = datasets.load_sample_motor_activation_image()"
      ]
    },
    {
      "cell_type": "markdown",
      "metadata": {},
      "source": [
        "## Get a cortical mesh\n\n"
      ]
    },
    {
      "cell_type": "code",
      "execution_count": null,
      "metadata": {
        "collapsed": false
      },
      "outputs": [],
      "source": [
        "from nilearn.experimental.surface import load_fsaverage, load_fsaverage_data\n\nfsaverage_meshes = load_fsaverage()"
      ]
    },
    {
      "cell_type": "markdown",
      "metadata": {},
      "source": [
        "Use :term:`mesh` curvature to display useful anatomical information\non inflated meshes\n\nHere, we load the curvature map of the hemisphere under study,\nand define a surface map whose value for a given :term:`vertex`\nis 1 if the curvature is positive,\n-1 if the curvature is negative.\n\n"
      ]
    },
    {
      "cell_type": "code",
      "execution_count": null,
      "metadata": {
        "collapsed": false
      },
      "outputs": [],
      "source": [
        "import numpy as np\n\nfrom nilearn import surface\n\nfsaverage_curvature = load_fsaverage_data(data_type=\"curvature\")\ncurv_right_sign = np.sign(fsaverage_curvature.data.parts[\"right\"])"
      ]
    },
    {
      "cell_type": "markdown",
      "metadata": {},
      "source": [
        "## Sample the 3D data around each node of the mesh\n\n"
      ]
    },
    {
      "cell_type": "code",
      "execution_count": null,
      "metadata": {
        "collapsed": false
      },
      "outputs": [],
      "source": [
        "from nilearn.experimental.surface import SurfaceImage\n\nimg = SurfaceImage(\n    mesh=fsaverage_meshes[\"pial\"],\n    data={\n        \"left\": surface.vol_to_surf(\n            stat_img, fsaverage_meshes[\"pial\"].parts[\"left\"]\n        ),\n        \"right\": surface.vol_to_surf(\n            stat_img, fsaverage_meshes[\"pial\"].parts[\"right\"]\n        ),\n    },\n)"
      ]
    },
    {
      "cell_type": "markdown",
      "metadata": {},
      "source": [
        "## Plot the result\n\nYou can visualize the texture on the surface using the function\n:func:`~nilearn.plotting.plot_surf_stat_map` which uses ``matplotlib``\nas the default plotting engine.\n\n"
      ]
    },
    {
      "cell_type": "code",
      "execution_count": null,
      "metadata": {
        "collapsed": false
      },
      "outputs": [],
      "source": [
        "from nilearn.experimental.plotting import plot_surf_stat_map\n\nfig = plot_surf_stat_map(\n    stat_map=img,\n    surf_mesh=fsaverage_meshes[\"inflated\"],\n    hemi=\"right\",\n    title=\"Surface with matplotlib\",\n    colorbar=True,\n    threshold=1.0,\n    bg_map=curv_right_sign,\n)\nfig.show()"
      ]
    },
    {
      "cell_type": "markdown",
      "metadata": {},
      "source": [
        "## Interactive plotting with Plotly\n\nIf you have a recent version of Nilearn (>=0.8.2), and if you have\n``plotly`` installed, you can easily configure\n:func:`~nilearn.plotting.plot_surf_stat_map` to use ``plotly``\ninstead of ``matplotlib``:\n\n"
      ]
    },
    {
      "cell_type": "code",
      "execution_count": null,
      "metadata": {
        "collapsed": false
      },
      "outputs": [],
      "source": [
        "engine = \"plotly\"\n# If plotly is not installed, use matplotlib\ntry:\n    import plotly.graph_objects as go  # noqa: F401\nexcept ImportError:\n    engine = \"matplotlib\"\n\nprint(f\"Using plotting engine {engine}.\")\n\nfig = plot_surf_stat_map(\n    stat_map=img,\n    surf_mesh=fsaverage_meshes[\"inflated\"],\n    hemi=\"right\",\n    title=\"Surface with plotly\",\n    colorbar=True,\n    threshold=1.0,\n    bg_map=curv_right_sign,\n    bg_on_data=True,\n    engine=engine,  # Specify the plotting engine here\n)\n\n# Display the figure as with matplotlib figures\n# fig.show()"
      ]
    },
    {
      "cell_type": "markdown",
      "metadata": {},
      "source": [
        "When using ``matplolib`` as the plotting engine, a standard\n:class:`matplotlib.figure.Figure` is returned.\nWith ``plotly`` as the plotting engine,\na custom :class:`~nilearn.plotting.displays.PlotlySurfaceFigure`\nis returned which provides a similar API\nto the :class:`~matplotlib.figure.Figure`.\nFor example, you can save a static version of the figure to file\n(this option requires to have ``kaleido`` installed):\n\n"
      ]
    },
    {
      "cell_type": "code",
      "execution_count": null,
      "metadata": {
        "collapsed": false
      },
      "outputs": [],
      "source": [
        "# Save the figure as we would do with a matplotlib figure.\n# Uncomment the following line to save the previous figure to file\n# fig.savefig(\"right_hemisphere.png\")"
      ]
    },
    {
      "cell_type": "markdown",
      "metadata": {},
      "source": [
        "## Plot 3D image for comparison\n\n"
      ]
    },
    {
      "cell_type": "code",
      "execution_count": null,
      "metadata": {
        "collapsed": false
      },
      "outputs": [],
      "source": [
        "from nilearn import plotting\n\nplotting.plot_glass_brain(\n    stat_map_img=stat_img,\n    display_mode=\"r\",\n    plot_abs=False,\n    title=\"Glass brain\",\n    threshold=2.0,\n)\n\nplotting.plot_stat_map(\n    stat_map_img=stat_img,\n    display_mode=\"x\",\n    threshold=1.0,\n    cut_coords=range(0, 51, 10),\n    title=\"Slices\",\n)"
      ]
    },
    {
      "cell_type": "markdown",
      "metadata": {},
      "source": [
        "## Use an atlas and choose regions to outline\n\n"
      ]
    },
    {
      "cell_type": "code",
      "execution_count": null,
      "metadata": {
        "collapsed": false
      },
      "outputs": [],
      "source": [
        "from nilearn.experimental.surface import fetch_destrieux\n\ndestrieux_atlas, label_names = fetch_destrieux(mesh_type=\"inflated\")\n\n# these are the regions we want to outline\nregions_dict = {\n    b\"G_postcentral\": \"Postcentral gyrus\",\n    b\"G_precentral\": \"Precentral gyrus\",\n}\n\n# get indices in atlas for these labels\nregions_indices = [\n    np.where(np.array(label_names) == region)[0][0] for region in regions_dict\n]\n\nlabels = list(regions_dict.values())"
      ]
    },
    {
      "cell_type": "markdown",
      "metadata": {},
      "source": [
        "## Display outlines of the regions of interest on top of a statistical map\n\n"
      ]
    },
    {
      "cell_type": "code",
      "execution_count": null,
      "metadata": {
        "collapsed": false
      },
      "outputs": [],
      "source": [
        "from nilearn.experimental.plotting import plot_surf_contours\n\nfsaverage_sulcal = load_fsaverage_data(data_type=\"sulcal\", mesh_type=\"pial\")\n\nfigure = plot_surf_stat_map(\n    stat_map=img,\n    surf_mesh=fsaverage_meshes[\"inflated\"],\n    hemi=\"right\",\n    title=\"ROI outlines on surface\",\n    colorbar=True,\n    threshold=1.0,\n    bg_map=fsaverage_sulcal,\n)\n\nplot_surf_contours(\n    roi_map=destrieux_atlas,\n    hemi=\"right\",\n    labels=labels,\n    levels=regions_indices,\n    figure=figure,\n    legend=True,\n    colors=[\"g\", \"k\"],\n)\nplotting.show()"
      ]
    },
    {
      "cell_type": "markdown",
      "metadata": {},
      "source": [
        "## Plot with higher-resolution mesh\n\n:func:`~nilearn.datasets.fetch_surf_fsaverage` takes a ``mesh`` argument\nwhich specifies whether to fetch the low-resolution ``fsaverage5`` mesh,\nor the high-resolution fsaverage mesh.\nUsing ``mesh=\"fsaverage\"`` will result\nin more memory usage and computation time, but finer visualizations.\n\n"
      ]
    },
    {
      "cell_type": "code",
      "execution_count": null,
      "metadata": {
        "collapsed": false
      },
      "outputs": [],
      "source": [
        "big_fsaverage_meshes = load_fsaverage(\"fsaverage\")\n\nbig_fsaverage_sulcal = load_fsaverage_data(\n    mesh_name=\"fsaverage\", data_type=\"sulcal\", mesh_type=\"inflated\"\n)\n\nbig_img = SurfaceImage(\n    mesh=big_fsaverage_meshes[\"pial\"],\n    data={\n        \"left\": surface.vol_to_surf(\n            stat_img, big_fsaverage_meshes[\"pial\"].parts[\"left\"]\n        ),\n        \"right\": surface.vol_to_surf(\n            stat_img, big_fsaverage_meshes[\"pial\"].parts[\"right\"]\n        ),\n    },\n)\n\nplot_surf_stat_map(\n    big_img,\n    surf_mesh=big_fsaverage_meshes[\"inflated\"],\n    hemi=\"right\",\n    colorbar=True,\n    title=\"Surface fine mesh\",\n    threshold=1.0,\n    bg_map=big_fsaverage_sulcal,\n)"
      ]
    },
    {
      "cell_type": "markdown",
      "metadata": {},
      "source": [
        "## Plot multiple views of the 3D volume on a surface\n\n:func:`~nilearn.plotting.plot_img_on_surf` takes a statistical map\nand projects it onto a surface.\nIt supports multiple choices of orientations,\nand can plot either one or both hemispheres.\nIf no ``surf_mesh`` is given,\n:func:`~nilearn.plotting.plot_img_on_surf` projects the images onto\n[FreeSurfer](https://surfer.nmr.mgh.harvard.edu/)\\'s fsaverage5.\n\n"
      ]
    },
    {
      "cell_type": "code",
      "execution_count": null,
      "metadata": {
        "collapsed": false
      },
      "outputs": [],
      "source": [
        "plotting.plot_img_on_surf(\n    stat_img,\n    views=[\"lateral\", \"medial\"],\n    hemispheres=[\"left\", \"right\"],\n    colorbar=True,\n    cmap=\"seismic\",\n    title=\"multiple views of the 3D volume\",\n    bg_on_data=True,\n)\nplotting.show()"
      ]
    },
    {
      "cell_type": "markdown",
      "metadata": {},
      "source": [
        "## 3D visualization in a web browser\n\nAn alternative to :func:`nilearn.plotting.plot_surf_stat_map` is to use\n:func:`nilearn.plotting.view_surf` or\n:func:`nilearn.plotting.view_img_on_surf` that give\nmore interactive visualizations in a web browser.\nSee `interactive-surface-plotting` for more details.\n\n"
      ]
    },
    {
      "cell_type": "code",
      "execution_count": null,
      "metadata": {
        "collapsed": false
      },
      "outputs": [],
      "source": [
        "from nilearn.experimental.plotting import view_surf\n\nview = view_surf(\n    surf_mesh=fsaverage_meshes[\"inflated\"],\n    surf_map=img,\n    threshold=\"90%\",\n    bg_map=fsaverage_sulcal,\n    hemi=\"right\",\n    title=\"3D visualization in a web browser\",\n)\n\n# In a Jupyter notebook, if ``view`` is the output of a cell,\n# it will be displayed below the cell\nview\n# view.open_in_browser()\n\n# We don't need to do the projection ourselves, we can use\n# :func:`~nilearn.plotting.view_img_on_surf`:\n\nview = plotting.view_img_on_surf(stat_img, threshold=\"90%\")\n\nview\n# view.open_in_browser()"
      ]
    },
    {
      "cell_type": "markdown",
      "metadata": {},
      "source": [
        "## Impact of plot parameters on visualization\n\nYou can specify arguments to be passed on to the function\n:func:`nilearn.surface.vol_to_surf` using `vol_to_surf_kwargs`\nThis allows fine-grained control of how the input 3D image\nis resampled and interpolated -\nfor example if you are viewing a volumetric atlas,\nyou would want to avoid averaging the labels between neighboring regions.\nUsing nearest-neighbor interpolation with zero radius will achieve this.\n\n"
      ]
    },
    {
      "cell_type": "code",
      "execution_count": null,
      "metadata": {
        "collapsed": false
      },
      "outputs": [],
      "source": [
        "destrieux = datasets.fetch_atlas_destrieux_2009(legacy_format=False)\n\nview = plotting.view_img_on_surf(\n    destrieux.maps,\n    surf_mesh=\"fsaverage\",\n    cmap=\"tab20\",\n    vol_to_surf_kwargs={\n        \"n_samples\": 1,\n        \"radius\": 0.0,\n        \"interpolation\": \"nearest\",\n    },\n    symmetric_cmap=False,\n    colorbar=False,\n)\n\nview\n# view.open_in_browser()"
      ]
    }
  ],
  "metadata": {
    "kernelspec": {
      "display_name": "Python 3",
      "language": "python",
      "name": "python3"
    },
    "language_info": {
      "codemirror_mode": {
        "name": "ipython",
        "version": 3
      },
      "file_extension": ".py",
      "mimetype": "text/x-python",
      "name": "python",
      "nbconvert_exporter": "python",
      "pygments_lexer": "ipython3",
      "version": "3.12.3"
    }
  },
  "nbformat": 4,
  "nbformat_minor": 0
}