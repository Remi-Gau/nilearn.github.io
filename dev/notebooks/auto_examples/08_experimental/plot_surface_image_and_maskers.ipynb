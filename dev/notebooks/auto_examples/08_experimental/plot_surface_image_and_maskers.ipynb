{
  "cells": [
    {
      "cell_type": "markdown",
      "metadata": {},
      "source": [
        "\n# A short demo of the surface images & maskers\n\ncopied from the nilearn sandbox discussion, to be transformed into tests &\nexamples\n\n<div class=\"alert alert-info\"><h4>Note</h4><p>this example is meant to support discussion around a tentative API for\n    surface images in nilearn. This functionality is provided by the\n    nilearn.experimental.surface module; it is still incomplete and subject to\n    change without a deprecation cycle. Please participate in the discussion on\n    GitHub!</p></div>\n"
      ]
    },
    {
      "cell_type": "code",
      "execution_count": null,
      "metadata": {
        "collapsed": false
      },
      "outputs": [],
      "source": [
        "try:\n    import matplotlib.pyplot as plt\nexcept ImportError:\n    raise RuntimeError(\"This script needs the matplotlib library\")"
      ]
    },
    {
      "cell_type": "code",
      "execution_count": null,
      "metadata": {
        "collapsed": false
      },
      "outputs": [],
      "source": [
        "import numpy as np\n\nfrom nilearn.experimental import plotting\nfrom nilearn.experimental.surface import SurfaceMasker, fetch_nki\nfrom nilearn.plotting import plot_matrix\n\nimg = fetch_nki()[0]\nprint(f\"NKI image: {img}\")\n\nmasker = SurfaceMasker()\nmasked_data = masker.fit_transform(img)\nprint(f\"Masked data shape: {masked_data.shape}\")\n\nmean_data = masked_data.mean(axis=0)\nmean_img = masker.inverse_transform(mean_data)\nprint(f\"Image mean: {mean_img}\")\n\n# let's create a figure with all the views for both hemispheres\nviews = [\"lateral\", \"medial\", \"dorsal\", \"ventral\", \"anterior\", \"posterior\"]\nhemispheres = [\"left\", \"right\"]\n\nfig, axes = plt.subplots(\n    len(views),\n    len(hemispheres),\n    subplot_kw={\"projection\": \"3d\"},\n    figsize=(4 * len(hemispheres), 4),\n)\naxes = np.atleast_2d(axes)\n\nfor view, ax_row in zip(views, axes):\n    for ax, hemi in zip(ax_row, hemispheres):\n        plotting.plot_surf(\n            surf_map=mean_img,\n            hemi=hemi,\n            view=view,\n            figure=fig,\n            axes=ax,\n            title=f\"mean image - {hemi} - {view}\",\n            colorbar=False,\n            cmap=\"bwr\",\n            symmetric_cmap=True,\n            bg_on_data=True,\n        )\nfig.set_size_inches(6, 8)\n\nplt.show()"
      ]
    },
    {
      "cell_type": "markdown",
      "metadata": {},
      "source": [
        "## Connectivity with a surface atlas and `SurfaceLabelsMasker`\n\n"
      ]
    },
    {
      "cell_type": "code",
      "execution_count": null,
      "metadata": {
        "collapsed": false
      },
      "outputs": [],
      "source": [
        "from nilearn import connectome\nfrom nilearn.experimental.surface import (\n    SurfaceLabelsMasker,\n    fetch_destrieux,\n    load_fsaverage_data,\n)\n\n# for our plots we will be using the fsaverage sulcal data as background map\nfsaverage_sulcal = load_fsaverage_data(data_type=\"sulcal\")\n\nimg = fetch_nki()[0]\nprint(f\"NKI image: {img}\")\n\nlabels_img, label_names = fetch_destrieux()\nprint(f\"Destrieux image: {labels_img}\")\nplotting.plot_surf_roi(\n    roi_map=labels_img,\n    avg_method=\"median\",\n    view=\"lateral\",\n    bg_on_data=True,\n    bg_map=fsaverage_sulcal,\n    darkness=0.5,\n    title=\"Destrieux atlas\",\n)\n\nlabels_masker = SurfaceLabelsMasker(labels_img, label_names).fit()\nmasked_data = labels_masker.transform(img)\nprint(f\"Masked data shape: {masked_data.shape}\")\n\nconnectome = (\n    connectome.ConnectivityMeasure(kind=\"correlation\").fit([masked_data]).mean_\n)\nplot_matrix(connectome, labels=labels_masker.label_names_)\n\nplt.show()"
      ]
    },
    {
      "cell_type": "markdown",
      "metadata": {},
      "source": [
        "## Using the `Decoder`\n\n"
      ]
    },
    {
      "cell_type": "code",
      "execution_count": null,
      "metadata": {
        "collapsed": false
      },
      "outputs": [],
      "source": [
        "from nilearn import decoding\nfrom nilearn._utils import param_validation"
      ]
    },
    {
      "cell_type": "markdown",
      "metadata": {},
      "source": [
        "The following is just disabling a couple of checks performed by the decoder\nthat would force us to use a `NiftiMasker`.\n\n"
      ]
    },
    {
      "cell_type": "code",
      "execution_count": null,
      "metadata": {
        "collapsed": false
      },
      "outputs": [],
      "source": [
        "def monkeypatch_masker_checks():\n    def adjust_screening_percentile(screening_percentile, *args, **kwargs):\n        return screening_percentile\n\n    param_validation.adjust_screening_percentile = adjust_screening_percentile\n\n\nmonkeypatch_masker_checks()"
      ]
    },
    {
      "cell_type": "markdown",
      "metadata": {},
      "source": [
        "Now using the appropriate masker we can use a `Decoder` on surface data just\nas we do for volume images.\n\n"
      ]
    },
    {
      "cell_type": "code",
      "execution_count": null,
      "metadata": {
        "collapsed": false
      },
      "outputs": [],
      "source": [
        "img = fetch_nki()[0]\ny = np.random.RandomState(0).choice([0, 1], replace=True, size=img.shape[0])\n\ndecoder = decoding.Decoder(\n    mask=SurfaceMasker(),\n    param_grid={\"C\": [0.01, 0.1]},\n    cv=3,\n    screening_percentile=1,\n)\ndecoder.fit(img, y)\nprint(\"CV scores:\", decoder.cv_scores_)\n\nplotting.plot_surf(\n    decoder.coef_img_[0],\n    threshold=1e-6,\n    bg_map=fsaverage_sulcal,\n    bg_on_data=True,\n    colorbar=True,\n    cmap=\"black_red\",\n    vmin=0,\n)\nplt.show()"
      ]
    },
    {
      "cell_type": "markdown",
      "metadata": {},
      "source": [
        "## Decoding with a scikit-learn `Pipeline`\n\n"
      ]
    },
    {
      "cell_type": "code",
      "execution_count": null,
      "metadata": {
        "collapsed": false
      },
      "outputs": [],
      "source": [
        "from sklearn import feature_selection, linear_model, pipeline, preprocessing\n\nimg = fetch_nki()[0]\ny = np.random.RandomState(0).normal(size=img.shape[0])\n\ndecoder = pipeline.make_pipeline(\n    SurfaceMasker(),\n    preprocessing.StandardScaler(),\n    feature_selection.SelectKBest(\n        score_func=feature_selection.f_regression, k=500\n    ),\n    linear_model.Ridge(),\n)\ndecoder.fit(img, y)\n\ncoef_img = decoder[:-1].inverse_transform(np.atleast_2d(decoder[-1].coef_))\n\nvmax = max([np.absolute(dp).max() for dp in coef_img.data.parts.values()])\nplotting.plot_surf(\n    coef_img,\n    cmap=\"cold_hot\",\n    vmin=-vmax,\n    vmax=vmax,\n    threshold=1e-6,\n    bg_map=fsaverage_sulcal,\n    bg_on_data=True,\n    colorbar=True,\n)\nplt.show()"
      ]
    }
  ],
  "metadata": {
    "kernelspec": {
      "display_name": "Python 3",
      "language": "python",
      "name": "python3"
    },
    "language_info": {
      "codemirror_mode": {
        "name": "ipython",
        "version": 3
      },
      "file_extension": ".py",
      "mimetype": "text/x-python",
      "name": "python",
      "nbconvert_exporter": "python",
      "pygments_lexer": "ipython3",
      "version": "3.12.4"
    }
  },
  "nbformat": 4,
  "nbformat_minor": 0
}