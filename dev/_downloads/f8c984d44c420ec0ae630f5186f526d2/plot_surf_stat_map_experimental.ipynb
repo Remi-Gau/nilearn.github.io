{
  "cells": [
    {
      "cell_type": "markdown",
      "metadata": {},
      "source": [
        "\n# Seed-based connectivity on the surface\n\n<div class=\"alert alert-danger\"><h4>Warning</h4><p>This is an adaption of\n    `sphx_glr_auto_examples_01_plotting_plot_surf_stat_map.py`\n    to use make it work with the new experimental surface API.</p></div>\n\nThe dataset that is a subset of the enhanced NKI Rockland sample\n(https://fcon_1000.projects.nitrc.org/indi/enhanced/, :footcite:t:`Nooner2012`\nsee `nki_dataset`)\n\nResting state :term:`fMRI` scans (TR=645ms) of 102 subjects were preprocessed\n(https://github.com/fliem/nki_nilearn)\nand projected onto the Freesurfer fsaverage5 template\n(:footcite:t:`Dale1999` and  :footcite:t:`Fischl1999b`).\nFor this example we use the time series of a single subject's left hemisphere.\n\nThe Destrieux parcellation (:footcite:t:`Destrieux2010`)\nin fsaverage5 space as distributed with Freesurfer\nis used to select a seed region in the posterior cingulate cortex.\n\nFunctional connectivity of the seed region to all other cortical nodes\nin the same hemisphere is calculated\nusing Pearson product-moment correlation coefficient.\n\nThe :func:`nilearn.plotting.plot_surf_stat_map` function is used\nto plot the resulting statistical map on the (inflated) pial surface.\n\nSee also `for a similar example but using volumetric input data\n<sphx_glr_auto_examples_03_connectivity_plot_seed_to_voxel_correlation.py>`.\n\nSee `plotting` for more details on plotting tools.\n"
      ]
    },
    {
      "cell_type": "markdown",
      "metadata": {},
      "source": [
        "## Retrieving the data\n\n"
      ]
    },
    {
      "cell_type": "code",
      "execution_count": null,
      "metadata": {
        "collapsed": false
      },
      "outputs": [],
      "source": [
        "# NKI resting state data from nilearn\nfrom nilearn.experimental.surface import (\n    fetch_destrieux,\n    fetch_nki,\n    load_fsaverage,\n    load_fsaverage_data,\n)\n\nnki_dataset = fetch_nki(n_subjects=1)\n\n# For this example we will only work on the data\n# from the left hemisphere\nhemi = \"left\"\n\n# The nki list contains a SurfaceImage instance\n# for the data of each subject along with fsaverage pial meshes.\n\n# Destrieux parcellation for left hemisphere in fsaverage5 space\ndestrieux_atlas, labels = fetch_destrieux()\nparcellation = destrieux_atlas.data.parts[hemi]\n\n# Fsaverage5 surface template\nfsaverage_meshes = load_fsaverage()\n\n# The fsaverage meshes contains the FileMesh objects:\nprint(\n    \"Fsaverage5 pial surface of left hemisphere is: \"\n    f\"{fsaverage_meshes['pial'].parts[hemi]}\"\n)\nprint(\n    \"Fsaverage5 inflated surface of left hemisphere is: \"\n    f\"{fsaverage_meshes['flat'].parts[hemi]}\"\n)\nprint(\n    \"Fsaverage5 inflated surface of left hemisphere is: \"\n    f\"{fsaverage_meshes['inflated'].parts[hemi]}\"\n)\n\n# The fsaverage data contains SurfaceImage instances with meshes and data\nfsaverage_sulcal = load_fsaverage_data(data_type=\"sulcal\")\nprint(f\"Fsaverage5 sulcal depth map: {fsaverage_sulcal}\")\n\nfsaverage_curvature = load_fsaverage_data(data_type=\"curvature\")\nprint(f\"Fsaverage5 sulcal curvature map: {fsaverage_curvature}\")"
      ]
    },
    {
      "cell_type": "markdown",
      "metadata": {},
      "source": [
        "## Extracting the seed time series\n\n"
      ]
    },
    {
      "cell_type": "code",
      "execution_count": null,
      "metadata": {
        "collapsed": false
      },
      "outputs": [],
      "source": [
        "# Load resting state time series from nilearn\ntimeseries = nki_dataset[0].data.parts[hemi].T\n\n# Extract seed region via label\npcc_region = b\"G_cingul-Post-dorsal\"\n\nimport numpy as np\n\npcc_labels = np.where(parcellation == labels.index(pcc_region))[0]\n\n# Extract time series from seed region\nseed_timeseries = np.mean(timeseries[pcc_labels], axis=0)"
      ]
    },
    {
      "cell_type": "markdown",
      "metadata": {},
      "source": [
        "## Calculating seed-based functional connectivity\n\n"
      ]
    },
    {
      "cell_type": "code",
      "execution_count": null,
      "metadata": {
        "collapsed": false
      },
      "outputs": [],
      "source": [
        "# Calculate Pearson product-moment correlation coefficient between seed\n# time series and timeseries of all cortical nodes of the hemisphere\nfrom scipy import stats\n\nstat_map = np.zeros(timeseries.shape[0])\nfor i in range(timeseries.shape[0]):\n    stat_map[i] = stats.pearsonr(seed_timeseries, timeseries[i])[0]\n\n# Re-mask previously masked nodes (medial wall)\nstat_map[np.where(np.mean(timeseries, axis=1) == 0)] = 0"
      ]
    },
    {
      "cell_type": "markdown",
      "metadata": {},
      "source": [
        "Display ROI on surface\n\n"
      ]
    },
    {
      "cell_type": "code",
      "execution_count": null,
      "metadata": {
        "collapsed": false
      },
      "outputs": [],
      "source": [
        "# Transform ROI indices in ROI map\npcc_map = np.zeros(parcellation.shape[0], dtype=int)\npcc_map[pcc_labels] = 1\n\nfrom nilearn.experimental import plotting\nfrom nilearn.plotting import show\n\nplotting.plot_surf_roi(\n    surf_mesh=nki_dataset[0].mesh,\n    roi_map=pcc_map,\n    hemi=hemi,\n    view=\"medial\",\n    bg_map=fsaverage_sulcal,\n    bg_on_data=True,\n    title=\"PCC Seed\",\n)\n\nshow()"
      ]
    },
    {
      "cell_type": "markdown",
      "metadata": {},
      "source": [
        "Using a flat :term:`mesh` can be useful in order to easily locate the area\nof interest on the cortex.\nTo make this plot easier to read,\nwe use the :term:`mesh` curvature as a background map.\n\n"
      ]
    },
    {
      "cell_type": "code",
      "execution_count": null,
      "metadata": {
        "collapsed": false
      },
      "outputs": [],
      "source": [
        "bg_map = np.sign(fsaverage_curvature.data.parts[hemi])\n# np.sign yields values in [-1, 1]. We rescale the background map\n# such that values are in [0.25, 0.75], resulting in a nicer looking plot.\nbg_map_rescaled = (bg_map + 1) / 4 + 0.25\n\nplotting.plot_surf_roi(\n    surf_mesh=fsaverage_meshes[\"flat\"],\n    roi_map=pcc_map,\n    hemi=hemi,\n    view=\"dorsal\",\n    bg_map=fsaverage_sulcal,\n    bg_on_data=True,\n    title=\"PCC Seed\",\n)"
      ]
    },
    {
      "cell_type": "markdown",
      "metadata": {},
      "source": [
        "Display unthresholded stat map with a slightly dimmed background\n\n"
      ]
    },
    {
      "cell_type": "code",
      "execution_count": null,
      "metadata": {
        "collapsed": false
      },
      "outputs": [],
      "source": [
        "plotting.plot_surf_stat_map(\n    surf_mesh=nki_dataset[0].mesh,\n    stat_map=stat_map,\n    hemi=hemi,\n    view=\"medial\",\n    colorbar=True,\n    bg_map=fsaverage_sulcal,\n    bg_on_data=True,\n    darkness=0.3,\n    title=\"Correlation map\",\n)\n\nshow()"
      ]
    },
    {
      "cell_type": "markdown",
      "metadata": {},
      "source": [
        "Many different options are available for plotting, for example thresholding,\nor using custom colormaps\n\n"
      ]
    },
    {
      "cell_type": "code",
      "execution_count": null,
      "metadata": {
        "collapsed": false
      },
      "outputs": [],
      "source": [
        "plotting.plot_surf_stat_map(\n    surf_mesh=nki_dataset[0].mesh,\n    stat_map=stat_map,\n    hemi=hemi,\n    view=\"medial\",\n    colorbar=True,\n    bg_map=fsaverage_sulcal,\n    bg_on_data=True,\n    cmap=\"Spectral\",\n    threshold=0.5,\n    title=\"Threshold and colormap\",\n)\n\nshow()"
      ]
    },
    {
      "cell_type": "markdown",
      "metadata": {},
      "source": [
        "Here the surface is plotted in a lateral view without a background map.\nTo capture 3D structure without depth information,\nthe default is to plot a half transparent surface.\nNote that you can also control the transparency\nwith a background map using the alpha parameter.\n\n"
      ]
    },
    {
      "cell_type": "code",
      "execution_count": null,
      "metadata": {
        "collapsed": false
      },
      "outputs": [],
      "source": [
        "plotting.plot_surf_stat_map(\n    surf_mesh=nki_dataset[0].mesh,\n    stat_map=stat_map,\n    hemi=hemi,\n    view=\"lateral\",\n    colorbar=True,\n    cmap=\"Spectral\",\n    threshold=0.5,\n    title=\"Plotting without background\",\n)\n\nshow()"
      ]
    },
    {
      "cell_type": "markdown",
      "metadata": {},
      "source": [
        "The plots can be saved to file,\nin which case the display is closed after creating the figure\n\n"
      ]
    },
    {
      "cell_type": "code",
      "execution_count": null,
      "metadata": {
        "collapsed": false
      },
      "outputs": [],
      "source": [
        "from pathlib import Path\n\noutput_dir = Path.cwd() / \"results\" / \"plot_surf_stat_map\"\noutput_dir.mkdir(exist_ok=True, parents=True)\nprint(f\"Output will be saved to: {output_dir}\")\n\nplotting.plot_surf_stat_map(\n    surf_mesh=fsaverage_meshes[\"inflated\"],\n    stat_map=stat_map,\n    hemi=hemi,\n    bg_map=fsaverage_sulcal,\n    bg_on_data=True,\n    threshold=0.5,\n    colorbar=True,\n    output_file=output_dir / \"plot_surf_stat_map.png\",\n)\n\nshow()"
      ]
    },
    {
      "cell_type": "markdown",
      "metadata": {},
      "source": [
        "## References\n\n .. footbibliography::\n\n"
      ]
    }
  ],
  "metadata": {
    "kernelspec": {
      "display_name": "Python 3",
      "language": "python",
      "name": "python3"
    },
    "language_info": {
      "codemirror_mode": {
        "name": "ipython",
        "version": 3
      },
      "file_extension": ".py",
      "mimetype": "text/x-python",
      "name": "python",
      "nbconvert_exporter": "python",
      "pygments_lexer": "ipython3",
      "version": "3.12.3"
    }
  },
  "nbformat": 4,
  "nbformat_minor": 0
}